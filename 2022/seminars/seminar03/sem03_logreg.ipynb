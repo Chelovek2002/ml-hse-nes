{
 "cells": [
  {
   "cell_type": "markdown",
   "id": "african-marble",
   "metadata": {
    "id": "african-marble"
   },
   "source": [
    "# Семинар 3. Логистическая регрессия"
   ]
  },
  {
   "cell_type": "markdown",
   "id": "separate-gateway",
   "metadata": {
    "id": "separate-gateway"
   },
   "source": [
    "## Логистическая регрессия"
   ]
  },
  {
   "cell_type": "markdown",
   "id": "sought-brooklyn",
   "metadata": {
    "id": "sought-brooklyn"
   },
   "source": [
    "В случае бинарной классификации простейший линейный классификатор ввыглядит так:\n",
    "\n",
    "$$\n",
    "f(x_i, w) = \\mathrm{sign}\\left(\\langle x_i, w \\rangle\\right).\n",
    "$$\n",
    "\n",
    "Функция потерь для такой задачи – это сумма индикаторов того, что предсказание сделано неверно: \n",
    "\n",
    "$$L(X, w) = \\frac{1}{\\ell}\\sum_{i = 1}^{\\ell}[y_i \\ne \\mathrm{sign}\\left(\\langle x_i, w \\rangle\\right)].$$\n",
    "\n",
    "Гораздо удобнее переписать эту функцию потерь через отступ:\n",
    "\n",
    "$$\n",
    "L(X, w) = \\frac{1}{\\ell}\\sum_{i = 1}^{\\ell}[y_i \\langle x_i, w \\rangle < 0].\n",
    "$$\n",
    "\n",
    "Понятно, что такую функцию проблематично дифференцировать по $w$. Вместо этого будем минимизировать некоторую функцию $L'(X, w)$, являющуюся верхней оценкой для $L(X, w)$, и надеяться, что минимизация $L'(X, w)$ позволит достаточно хорошо минимизировать и $L(X, w)$.\n",
    "\n",
    "Логистическая регрессия предлагает использовать логистическую функцию потерь:\n",
    "\n",
    "$$\n",
    "L'(X, w) = \\frac{1}{\\ell}\\sum_{i = 1}^{\\ell}\\log(1 + e^{-y_i \\langle x_i, w \\rangle}) \\rightarrow \\min_w.\n",
    "$$"
   ]
  },
  {
   "cell_type": "code",
   "execution_count": null,
   "id": "manual-launch",
   "metadata": {
    "id": "manual-launch"
   },
   "outputs": [],
   "source": [
    "import numpy as np\n",
    "import pandas as pd\n",
    "import matplotlib.pyplot as plt"
   ]
  },
  {
   "cell_type": "code",
   "execution_count": null,
   "id": "varying-mainstream",
   "metadata": {
    "id": "varying-mainstream",
    "outputId": "b5187ade-f1ca-4f9d-db68-a8ac21017348"
   },
   "outputs": [],
   "source": [
    "x = np.concatenate((np.linspace(-3, 0, 500), np.linspace(0, 3, 500)))\n",
    "np.random.seed(123)\n",
    "y = np.ones(1000)\n",
    "w = np.ones(1000)\n",
    "M = y * x * w\n",
    "\n",
    "plt.figure(figsize = (8, 6))\n",
    "_ = plt.plot(x * w, x < 0, label = '$Q(X, w)$, zero-one loss')\n",
    "_ = plt.plot(M, np.log2(1 + np.exp(-M)), label = \"$Q'(X, w)$, logistic loss\")\n",
    "_ = plt.legend()"
   ]
  },
  {
   "cell_type": "markdown",
   "id": "impressive-fetish",
   "metadata": {
    "id": "impressive-fetish"
   },
   "source": [
    "Можно показать, что задачу логистичсекий регрессии можно перерписать в следующем виде:\n",
    "\n",
    "$$\n",
    "L'(X, w) = -\\frac{1}{\\ell} \\sum_{i=1}^{\\ell} [y_i = 1]\\log\\sigma(\\langle x_i, w \\rangle) + [y_i = -1](1 - \\log(\\sigma(\\langle x_i, w \\rangle))\n",
    "$$\n",
    "\n",
    "Эта функция называется log-loss или кросс-энтропией между истинной целевой переменной и предсказанными вероятностями."
   ]
  },
  {
   "cell_type": "markdown",
   "id": "armed-piano",
   "metadata": {
    "id": "armed-piano"
   },
   "source": [
    "Регуляризация вводится таким же образом, как это было в случае линейной регрессии. Например, функция потерь для $L$-$2$ регуляризации выглядит так:\n",
    "\n",
    "$$\n",
    "\\bar{L}'(X, w) = L'(X, w) + \\frac{1}{2}\\lambda\\|w\\|^2_2.\n",
    "$$"
   ]
  },
  {
   "cell_type": "markdown",
   "id": "union-darwin",
   "metadata": {
    "id": "union-darwin"
   },
   "source": [
    "## Практика"
   ]
  },
  {
   "cell_type": "markdown",
   "id": "abroad-hamburg",
   "metadata": {
    "id": "abroad-hamburg"
   },
   "source": [
    "Рассмотрим свойства логистической регрессии и метода опорных векторов на примере классического набора данных [\"Ирисы Фишера\"](https://ru.wikipedia.org/wiki/Ирисы_Фишера). Этот набор состоит из 150 наблюдений, каждое из которых представляет собой четыре измерения: длина наружной доли околоцветника (`sepal length`), ширина наружной доли околоцветника (`sepal width`), длина внутренней доли околоцветника (`petal length`), ширина внутренней доли околоцветника (`petal width`). Каждое наблюдение относится к одному из трёх классов ириса: `setosa`, `versicolor` или `virginica`. Задача состоит в том, чтобы по измерениям предсказать класс цветка. \n",
    "\n",
    "[<img src=\"https://miro.medium.com/max/1000/1*Hh53mOF4Xy4eORjLilKOwA.png\" alt=\"drawing\" width=\"800\"/>](https://miro.medium.com/max/1000/1*Hh53mOF4Xy4eORjLilKOwA.png)"
   ]
  },
  {
   "cell_type": "code",
   "execution_count": null,
   "id": "several-bradford",
   "metadata": {
    "id": "several-bradford",
    "outputId": "d465a0c0-b37c-440d-aa40-78fad2740acf"
   },
   "outputs": [],
   "source": [
    "from sklearn.datasets import load_iris\n",
    "iris = load_iris(as_frame=True)\n",
    "\n",
    "data = iris['data']\n",
    "y = iris['target'].values"
   ]
  },
  {
   "cell_type": "code",
   "execution_count": null,
   "id": "77068ebd-7569-4672-b6e6-fdfc55460fc5",
   "metadata": {},
   "outputs": [],
   "source": [
    "data.head()"
   ]
  },
  {
   "cell_type": "code",
   "execution_count": null,
   "id": "0dc8d8b2-e5fa-4bc4-9614-675d61e4f606",
   "metadata": {},
   "outputs": [],
   "source": [
    "y[:5]"
   ]
  },
  {
   "cell_type": "markdown",
   "id": "velvet-macintosh",
   "metadata": {
    "id": "velvet-macintosh"
   },
   "source": [
    "### Задание 1.\n",
    "\n",
    "Перейдём к задаче бинарной классификации: будем предсказывать принадлежность цветка к виду `versicolor` против принадлежности ко всем прочим видам. Перекодируйте зависимую переменную так, чтобы цветки вида `versicolor` (y=1) имели метку 1, а прочих видов – метку 0. "
   ]
  },
  {
   "cell_type": "code",
   "execution_count": null,
   "id": "balanced-uzbekistan",
   "metadata": {
    "id": "balanced-uzbekistan"
   },
   "outputs": [],
   "source": [
    "... # YOUR CODE HERE"
   ]
  },
  {
   "cell_type": "markdown",
   "id": "imported-symphony",
   "metadata": {
    "id": "imported-symphony"
   },
   "source": [
    "### Задание 2. \n",
    "\n",
    "Будем работать с двумя признаками: `sepal length (cm)` и `sepal width (cm)`. Построим диаграмму рассеяния по тренировочной выборке и убедитесь, что данные линейно не разделимы. "
   ]
  },
  {
   "cell_type": "code",
   "execution_count": null,
   "id": "imperial-dealer",
   "metadata": {
    "id": "imperial-dealer",
    "outputId": "6c093fea-0f6f-4290-abf1-166b552effac"
   },
   "outputs": [],
   "source": [
    "# YOUR CODE HERE\n",
    "X = ..."
   ]
  },
  {
   "cell_type": "code",
   "execution_count": null,
   "id": "8be2eb00-a2f4-43e7-8ec0-4e823cac218f",
   "metadata": {},
   "outputs": [],
   "source": [
    "from sklearn.model_selection import train_test_split\n",
    "\n",
    "# делим данные на обучающую и тестовую выборки\n",
    "X_train, X_test, y_train, y_test = train_test_split(X, y, test_size=0.3, random_state=123)"
   ]
  },
  {
   "cell_type": "markdown",
   "id": "a705849e-fc58-416b-9e70-3b7bf9644036",
   "metadata": {},
   "source": [
    "Приведем занчения всех входных признаков к одному масштабу. Для этого применим функцию `StandardScaler`. Это преобразование приводит значения каждого признака к нулевому среднему и единичной дисперсии:\n",
    "\n",
    "$$\n",
    "X_{new} = \\frac{X - \\mu}{\\sigma}\n",
    "$$\n",
    "\n",
    "где, $\\mu$ - среднее значение признака\n",
    "\n",
    "$\\sigma$ - стандартное отклонение значений признака"
   ]
  },
  {
   "cell_type": "code",
   "execution_count": null,
   "id": "78f784c6-5811-4d69-828c-f46aa70fcc60",
   "metadata": {},
   "outputs": [],
   "source": [
    "from sklearn.preprocessing import StandardScaler\n",
    "\n",
    "ss = StandardScaler()\n",
    "ss.fit(X_train, y_train) # считаем \\mu и \\sigma\n",
    "\n",
    "# делаем преобразование данных\n",
    "X_train_ss = ss.transform(X_train)\n",
    "X_test_ss = ss.transform(X_test)"
   ]
  },
  {
   "cell_type": "code",
   "execution_count": null,
   "id": "443a2c2b",
   "metadata": {},
   "outputs": [],
   "source": [
    "plt.scatter(X_train_ss[:, 0], X_train_ss[:, 1], c=y_train)\n",
    "plt.show()"
   ]
  },
  {
   "cell_type": "markdown",
   "id": "nominated-nightmare",
   "metadata": {
    "id": "nominated-nightmare"
   },
   "source": [
    "### Задание 3. \n",
    "\n",
    "Сравним качество для KNN и логрега."
   ]
  },
  {
   "cell_type": "code",
   "execution_count": null,
   "id": "7dccb88b-70ee-41ac-aaec-4f9bb7fe5f0c",
   "metadata": {},
   "outputs": [],
   "source": [
    "from sklearn.linear_model import LogisticRegression\n",
    "from sklearn.neighbors import KNeighborsClassifier"
   ]
  },
  {
   "cell_type": "code",
   "execution_count": null,
   "id": "imperial-saskatchewan",
   "metadata": {
    "id": "imperial-saskatchewan",
    "outputId": "0c834e24-6804-46ad-b4cc-c34419064c67"
   },
   "outputs": [],
   "source": [
    "knn = KNeighborsClassifier(n_neighbors=5)\n",
    "logreg = LogisticRegression()"
   ]
  },
  {
   "cell_type": "markdown",
   "id": "cb6f9b02-3f7f-4118-bf07-19b64a12af90",
   "metadata": {},
   "source": [
    "#### Обучение"
   ]
  },
  {
   "cell_type": "code",
   "execution_count": null,
   "id": "b2132597",
   "metadata": {},
   "outputs": [],
   "source": [
    "# обучите классификаторы\n",
    "\n",
    "# YOUR CODE HERE\n",
    "...\n",
    "..."
   ]
  },
  {
   "cell_type": "markdown",
   "id": "d3e6625e-dbce-4798-9369-66e56165f8cf",
   "metadata": {},
   "source": [
    "#### Прогноз метки класса"
   ]
  },
  {
   "cell_type": "code",
   "execution_count": null,
   "id": "62965ba0",
   "metadata": {},
   "outputs": [],
   "source": [
    "# получите прогнозы для тестовой выборки\n",
    "\n",
    "y_test_pred_knn = ... # YOUR CODE HERE\n",
    "y_test_pred_logreg = ... # YOUR CODE HERE"
   ]
  },
  {
   "cell_type": "code",
   "execution_count": null,
   "id": "b3177ed4-f6a8-4652-bb64-e10825f1842f",
   "metadata": {},
   "outputs": [],
   "source": [
    "y_test_pred_knn[:5], y_test_pred_logreg[:5]"
   ]
  },
  {
   "cell_type": "markdown",
   "id": "aa87f46c-c6b4-46c3-822e-9fa4477695b6",
   "metadata": {},
   "source": [
    "#### Прогноз вероятности класса"
   ]
  },
  {
   "cell_type": "code",
   "execution_count": null,
   "id": "10378dd9-b25d-4feb-9751-d15af7327212",
   "metadata": {},
   "outputs": [],
   "source": [
    "y_test_proba_knn = knn.predict_proba(X_test_ss)\n",
    "y_test_proba_logreg = logreg.predict_proba(X_test_ss)"
   ]
  },
  {
   "cell_type": "code",
   "execution_count": null,
   "id": "a15978f3-0774-4920-9239-c0c9892fcb0a",
   "metadata": {},
   "outputs": [],
   "source": [
    "y_test_proba_knn[:5]"
   ]
  },
  {
   "cell_type": "code",
   "execution_count": null,
   "id": "e3f7fb61-be17-470a-99ff-f243959908b4",
   "metadata": {},
   "outputs": [],
   "source": [
    "y_test_proba_logreg[:5]"
   ]
  },
  {
   "cell_type": "markdown",
   "id": "c03f07c6-7fe2-4d10-9a56-bd657d373f3a",
   "metadata": {},
   "source": [
    "#### Метрика качества"
   ]
  },
  {
   "cell_type": "code",
   "execution_count": null,
   "id": "exact-bailey",
   "metadata": {
    "id": "exact-bailey",
    "outputId": "b6538cf4-8c07-44d2-e1f1-9366476b135d"
   },
   "outputs": [],
   "source": [
    "from sklearn.metrics import accuracy_score\n",
    "print(f'KNN: {accuracy_score(y_test, y_test_pred_knn)}')\n",
    "print(f'LogReg: {accuracy_score(y_test, y_test_pred_logreg)}')"
   ]
  },
  {
   "cell_type": "markdown",
   "id": "945470c3-3cee-440b-b2df-b152e0626621",
   "metadata": {},
   "source": [
    "#### Строим разделяющую поверность"
   ]
  },
  {
   "cell_type": "code",
   "execution_count": null,
   "id": "014fcc56-d6a4-45bf-8d4c-944ef222d591",
   "metadata": {},
   "outputs": [],
   "source": [
    "#!pip install mlxtend"
   ]
  },
  {
   "cell_type": "code",
   "execution_count": null,
   "id": "04bdac20",
   "metadata": {},
   "outputs": [],
   "source": [
    "from mlxtend.plotting import plot_decision_regions\n",
    "\n",
    "plt.figure(figsize=(12,8))\n",
    "plot_decision_regions(X_train_ss, y_train, clf=knn, legend=2)\n",
    "plt.title('Разделяющая поверхность для KNN')"
   ]
  },
  {
   "cell_type": "code",
   "execution_count": null,
   "id": "e862265f",
   "metadata": {},
   "outputs": [],
   "source": [
    "plt.figure(figsize=(12,8))\n",
    "plot_decision_regions(X_train_ss, y_train, clf=logreg, legend=2)\n",
    "plt.title('Разделяющая поверхность для логрега')"
   ]
  },
  {
   "cell_type": "markdown",
   "id": "unsigned-petite",
   "metadata": {
    "id": "unsigned-petite"
   },
   "source": [
    "Теперь изучим свойства каждого классификатора по-отдельности. Начнём с логистической регрессии.\n",
    "\n",
    "### Задание 4.\n",
    "\n",
    "Обучите три различные логистические регрессии с разным параметром регуляризации $C$."
   ]
  },
  {
   "cell_type": "code",
   "execution_count": null,
   "id": "happy-origin",
   "metadata": {
    "id": "happy-origin"
   },
   "outputs": [],
   "source": [
    "logreg_1 = LogisticRegression(C=0.01)\n",
    "logreg_2 = LogisticRegression(C=0.05)\n",
    "logreg_3 = LogisticRegression(C=10)"
   ]
  },
  {
   "cell_type": "code",
   "execution_count": null,
   "id": "victorian-danger",
   "metadata": {
    "id": "victorian-danger",
    "outputId": "9a477355-8122-4bb8-f273-cfa7101d3298"
   },
   "outputs": [],
   "source": [
    "fig, axes = plt.subplots(ncols=3, figsize=(12, 8))\n",
    "pipes = [logreg_1, logreg_2, logreg_3]\n",
    "\n",
    "\n",
    "for ind, clf in enumerate(pipes):\n",
    "    clf.fit(X_train_ss, y_train)\n",
    "    y_test_pred = clf.predict(X_test_ss)\n",
    "    score = accuracy_score(y_test, y_test_pred)\n",
    "    print(f\"Acc., C={clf.get_params()['C']}: \", score)\n",
    "    fig = plot_decision_regions(X_train_ss, y_train, clf=clf, legend=2, ax=axes[ind])\n",
    "    fig.set_title(f\"C={clf.get_params()['C']}\", fontsize=16)\n"
   ]
  },
  {
   "cell_type": "markdown",
   "id": "handy-bolivia",
   "metadata": {
    "id": "handy-bolivia"
   },
   "source": [
    "Перейдём к KNN.\n",
    "\n",
    "### Задание 5.\n",
    "\n",
    "Обучите три KNN с разным числом соседей."
   ]
  },
  {
   "cell_type": "code",
   "execution_count": null,
   "id": "patent-chess",
   "metadata": {
    "id": "patent-chess"
   },
   "outputs": [],
   "source": [
    "knn_1 = KNeighborsClassifier(n_neighbors=1)\n",
    "knn_2 = KNeighborsClassifier(n_neighbors=5)\n",
    "knn_3 = KNeighborsClassifier(n_neighbors=50)"
   ]
  },
  {
   "cell_type": "code",
   "execution_count": null,
   "id": "local-revolution",
   "metadata": {
    "id": "local-revolution",
    "outputId": "e17c1a24-fcd8-47e8-b200-3be4ec1c79df"
   },
   "outputs": [],
   "source": [
    "fig, axes = plt.subplots(ncols=3, figsize=(12, 8))\n",
    "pipes = [knn_1, knn_2, knn_3]\n",
    "\n",
    "\n",
    "for ind, clf in enumerate(pipes):\n",
    "    clf.fit(X_train_ss, y_train)\n",
    "    y_test_pred = clf.predict(X_test_ss)\n",
    "    score = accuracy_score(y_test, y_test_pred)\n",
    "    print(f\"Acc., n_neighbors={clf.get_params()['n_neighbors']}: \", score)\n",
    "    fig = plot_decision_regions(X_train_ss, y_train, clf=clf, legend=2, ax=axes[ind])\n",
    "    fig.set_title(f\"n_neighbors={clf.get_params()['n_neighbors']}\", fontsize=16)"
   ]
  },
  {
   "cell_type": "markdown",
   "id": "fb3554c9-3522-427c-bce2-bf73d18b3951",
   "metadata": {},
   "source": [
    "#### Дополнительное задание\n",
    "Зачем мы используем `StandardScaler`? Что будет, если один из входных признаков умножить на 10^6? "
   ]
  },
  {
   "cell_type": "markdown",
   "id": "110c7923-494d-4aac-b9de-5cf7a7800efa",
   "metadata": {},
   "source": [
    "## Нелинейные поверхности"
   ]
  },
  {
   "cell_type": "code",
   "execution_count": null,
   "id": "87806867-501d-42e0-b8b1-f07b25346932",
   "metadata": {},
   "outputs": [],
   "source": [
    "from sklearn.datasets import make_circles\n",
    "\n",
    "X, y = make_circles(n_samples=200, shuffle=True, noise = 0.1, factor=0.1)"
   ]
  },
  {
   "cell_type": "code",
   "execution_count": null,
   "id": "d2932909-b194-482f-88f4-8853f70e8552",
   "metadata": {},
   "outputs": [],
   "source": [
    "plt.scatter(X[:, 0], X[:, 1], c=y)"
   ]
  },
  {
   "cell_type": "code",
   "execution_count": null,
   "id": "48f677a4-fe0b-4d83-8c69-efed2b1eafcc",
   "metadata": {},
   "outputs": [],
   "source": [
    "# делим данные на обучение и тест\n",
    "X_train, X_test, y_train, y_test = train_test_split(X, y, test_size=0.3, random_state=123)"
   ]
  },
  {
   "cell_type": "code",
   "execution_count": null,
   "id": "11b83192-2327-4b88-8dce-6611e011bc20",
   "metadata": {},
   "outputs": [],
   "source": [
    "# обучаем модель\n",
    "logreg = LogisticRegression()\n",
    "logreg.fit(X_train, y_train)"
   ]
  },
  {
   "cell_type": "code",
   "execution_count": null,
   "id": "4191ef82-b0e8-4b4a-9ffd-eec3c683bd1b",
   "metadata": {},
   "outputs": [],
   "source": [
    "plt.figure(figsize=(12,8))\n",
    "plot_decision_regions(X_train, y_train, clf=logreg, legend=2)\n",
    "plt.title('Разделяющая поверхность для логрега')"
   ]
  },
  {
   "cell_type": "markdown",
   "id": "e67aaaf9-74d4-40d4-b6ac-ea2475b04c3e",
   "metadata": {},
   "source": [
    "### Добавим новый признак\n",
    "\n",
    "$$\n",
    "X_3 = X_1^{2} + X_2^{2}\n",
    "$$"
   ]
  },
  {
   "cell_type": "code",
   "execution_count": null,
   "id": "070d9127-d24f-4031-b370-489f0d3e73db",
   "metadata": {},
   "outputs": [],
   "source": [
    "X1 = X[:,0]\n",
    "X2 = X[:,1]\n",
    "X3 = X1**2+X2**2\n",
    "\n",
    "X_new = np.c_[X1, X2, X3]"
   ]
  },
  {
   "cell_type": "code",
   "execution_count": null,
   "id": "b983936b-de4a-4b2e-8f80-b9b3c3f67782",
   "metadata": {},
   "outputs": [],
   "source": [
    "# делим данные на обучение и тест\n",
    "X_train, X_test, y_train, y_test = train_test_split(X_new, y, test_size=0.3, random_state=123)"
   ]
  },
  {
   "cell_type": "code",
   "execution_count": null,
   "id": "77b66f97-85d1-43b0-b5a6-a31e32f0fadd",
   "metadata": {},
   "outputs": [],
   "source": [
    "# обучаем модель\n",
    "logreg = LogisticRegression()\n",
    "logreg.fit(X_train, y_train)"
   ]
  },
  {
   "cell_type": "code",
   "execution_count": null,
   "id": "8be80110-fae1-4287-8b9f-6a5bd964e66f",
   "metadata": {},
   "outputs": [],
   "source": [
    "# Plot desicion border\n",
    "\n",
    "x0, x1 = np.meshgrid(np.arange(-1.5, 1.5, 0.01), np.arange(-1.5, 1.5, 0.01))\n",
    "xx0, xx1 = x0.ravel(), x1.ravel()\n",
    "X_grid = np.c_[xx0, xx1, xx0**2 + xx1**2]\n",
    "\n",
    "y_pred = logreg.predict(X_grid)\n",
    "y_pred = y_pred.reshape(x0.shape)\n",
    "\n",
    "plt.figure(figsize=(12,8))\n",
    "plt.contourf(x0, x1, y_pred, levels=1, cmap=plt.cm.seismic, alpha=0.2)\n",
    "plt.colorbar()\n",
    "plt.scatter(X[y==0,0], X[y==0, 1], c='b')\n",
    "plt.scatter(X[y==1,0], X[y==1, 1], c='r')"
   ]
  },
  {
   "cell_type": "code",
   "execution_count": null,
   "id": "b6e4c6ae-5684-4f3a-8c83-1d54115e078f",
   "metadata": {},
   "outputs": [],
   "source": [
    "# Plot desicion border\n",
    "\n",
    "x0, x1 = np.meshgrid(np.arange(-1.5, 1.5, 0.01), np.arange(-1.5, 1.5, 0.01))\n",
    "xx0, xx1 = x0.ravel(), x1.ravel()\n",
    "X_grid = np.c_[xx0, xx1, xx0**2 + xx1**2]\n",
    "\n",
    "y_pred = logreg.predict_proba(X_grid)[:, 1]\n",
    "y_pred = y_pred.reshape(x0.shape)\n",
    "\n",
    "plt.figure(figsize=(12,8))\n",
    "plt.contourf(x0, x1, y_pred, levels=20, cmap=plt.cm.seismic, alpha=0.5)\n",
    "plt.colorbar()\n",
    "plt.scatter(X[y==0,0], X[y==0, 1], c='0')\n",
    "plt.scatter(X[y==1,0], X[y==1, 1], c='0')"
   ]
  },
  {
   "cell_type": "code",
   "execution_count": null,
   "id": "865ba706-6577-4caa-ba93-dc2af360e506",
   "metadata": {},
   "outputs": [],
   "source": []
  },
  {
   "cell_type": "code",
   "execution_count": null,
   "id": "25256879-30be-447a-9e8b-10f5298529ec",
   "metadata": {},
   "outputs": [],
   "source": []
  }
 ],
 "metadata": {
  "colab": {
   "collapsed_sections": [
    "aware-beach",
    "initial-stretch",
    "advance-interest"
   ],
   "name": "sem09_logit_svm.ipynb",
   "provenance": []
  },
  "kernelspec": {
   "display_name": "Python 3 (ipykernel)",
   "language": "python",
   "name": "python3"
  },
  "language_info": {
   "codemirror_mode": {
    "name": "ipython",
    "version": 3
   },
   "file_extension": ".py",
   "mimetype": "text/x-python",
   "name": "python",
   "nbconvert_exporter": "python",
   "pygments_lexer": "ipython3",
   "version": "3.9.12"
  }
 },
 "nbformat": 4,
 "nbformat_minor": 5
}
